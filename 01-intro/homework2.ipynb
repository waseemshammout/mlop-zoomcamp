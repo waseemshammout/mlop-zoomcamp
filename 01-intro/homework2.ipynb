{
 "cells": [
  {
   "cell_type": "code",
   "execution_count": 1,
   "id": "c80e2130",
   "metadata": {},
   "outputs": [],
   "source": [
    "import pandas as pd\n",
    "import numpy as np\n",
    "from sklearn.feature_extraction import DictVectorizer\n",
    "from sklearn.linear_model import LinearRegression\n",
    "from sklearn.metrics import mean_squared_error"
   ]
  },
  {
   "cell_type": "code",
   "execution_count": 2,
   "id": "f57ad3f6",
   "metadata": {},
   "outputs": [],
   "source": [
    "jan_df = pd.read_parquet('https://d37ci6vzurychx.cloudfront.net/trip-data/yellow_tripdata_2023-01.parquet')"
   ]
  },
  {
   "cell_type": "code",
   "execution_count": 3,
   "id": "6bfcd8ab",
   "metadata": {},
   "outputs": [
    {
     "data": {
      "text/plain": [
       "19"
      ]
     },
     "execution_count": 3,
     "metadata": {},
     "output_type": "execute_result"
    }
   ],
   "source": [
    "Answer1 = len(jan_df.columns)\n",
    "Answer1"
   ]
  },
  {
   "cell_type": "code",
   "execution_count": 4,
   "id": "0b531845",
   "metadata": {},
   "outputs": [],
   "source": [
    "jan_df['duration'] = (jan_df['tpep_dropoff_datetime'] - jan_df['tpep_pickup_datetime']).dt.total_seconds() / 60"
   ]
  },
  {
   "cell_type": "code",
   "execution_count": 5,
   "id": "8af9b7be",
   "metadata": {},
   "outputs": [
    {
     "data": {
      "text/plain": [
       "42.5943442974141"
      ]
     },
     "execution_count": 5,
     "metadata": {},
     "output_type": "execute_result"
    }
   ],
   "source": [
    "Answer2 = np.std(jan_df['duration'])\n",
    "Answer2"
   ]
  },
  {
   "cell_type": "code",
   "execution_count": 6,
   "id": "e09756ba",
   "metadata": {},
   "outputs": [
    {
     "data": {
      "text/plain": [
       "0.9812202822125979"
      ]
     },
     "execution_count": 6,
     "metadata": {},
     "output_type": "execute_result"
    }
   ],
   "source": [
    "clean_jan_df = jan_df[(jan_df['duration']>=1) & (jan_df['duration']<=60)]\n",
    "Answer3 = clean_jan_df.shape[0] / jan_df.shape[0]\n",
    "Answer3"
   ]
  },
  {
   "cell_type": "code",
   "execution_count": 7,
   "id": "4cde9207",
   "metadata": {},
   "outputs": [],
   "source": [
    "dv = DictVectorizer()"
   ]
  },
  {
   "cell_type": "code",
   "execution_count": 8,
   "id": "f749942d",
   "metadata": {},
   "outputs": [
    {
     "name": "stderr",
     "output_type": "stream",
     "text": [
      "/tmp/ipykernel_10974/529315331.py:1: SettingWithCopyWarning: \n",
      "A value is trying to be set on a copy of a slice from a DataFrame.\n",
      "Try using .loc[row_indexer,col_indexer] = value instead\n",
      "\n",
      "See the caveats in the documentation: https://pandas.pydata.org/pandas-docs/stable/user_guide/indexing.html#returning-a-view-versus-a-copy\n",
      "  clean_jan_df['PULocationID'] = clean_jan_df['PULocationID'].astype(str)\n",
      "/tmp/ipykernel_10974/529315331.py:2: SettingWithCopyWarning: \n",
      "A value is trying to be set on a copy of a slice from a DataFrame.\n",
      "Try using .loc[row_indexer,col_indexer] = value instead\n",
      "\n",
      "See the caveats in the documentation: https://pandas.pydata.org/pandas-docs/stable/user_guide/indexing.html#returning-a-view-versus-a-copy\n",
      "  clean_jan_df['DOLocationID'] = clean_jan_df['DOLocationID'].astype(str)\n"
     ]
    }
   ],
   "source": [
    "clean_jan_df['PULocationID'] = clean_jan_df['PULocationID'].astype(str)\n",
    "clean_jan_df['DOLocationID'] = clean_jan_df['DOLocationID'].astype(str)"
   ]
  },
  {
   "cell_type": "code",
   "execution_count": 9,
   "id": "c2cfa0ad",
   "metadata": {},
   "outputs": [],
   "source": [
    "dicts = clean_jan_df[['PULocationID','DOLocationID']].to_dict(orient='records')\n",
    "X_train = dv.fit_transform(dicts)"
   ]
  },
  {
   "cell_type": "code",
   "execution_count": 10,
   "id": "b0cce7ee",
   "metadata": {},
   "outputs": [
    {
     "data": {
      "text/plain": [
       "515"
      ]
     },
     "execution_count": 10,
     "metadata": {},
     "output_type": "execute_result"
    }
   ],
   "source": [
    "Answer4 = X_train.shape[1]\n",
    "Answer4"
   ]
  },
  {
   "cell_type": "code",
   "execution_count": 11,
   "id": "fe214a47",
   "metadata": {},
   "outputs": [],
   "source": [
    "model = LinearRegression()"
   ]
  },
  {
   "cell_type": "code",
   "execution_count": 12,
   "id": "b966529a",
   "metadata": {},
   "outputs": [],
   "source": [
    "y_train = clean_jan_df['duration']"
   ]
  },
  {
   "cell_type": "code",
   "execution_count": 13,
   "id": "b8188e97",
   "metadata": {},
   "outputs": [
    {
     "data": {
      "text/plain": [
       "LinearRegression()"
      ]
     },
     "execution_count": 13,
     "metadata": {},
     "output_type": "execute_result"
    }
   ],
   "source": [
    "model.fit(X_train, y_train)"
   ]
  },
  {
   "cell_type": "code",
   "execution_count": 14,
   "id": "9af6e8cd",
   "metadata": {},
   "outputs": [],
   "source": [
    "preds_train = model.predict(X_train)"
   ]
  },
  {
   "cell_type": "code",
   "execution_count": 15,
   "id": "6ebb4916",
   "metadata": {},
   "outputs": [
    {
     "data": {
      "text/plain": [
       "7.649261027826866"
      ]
     },
     "execution_count": 15,
     "metadata": {},
     "output_type": "execute_result"
    }
   ],
   "source": [
    "Answer5 = mean_squared_error(y_train, preds_train, squared=False)\n",
    "Answer5"
   ]
  },
  {
   "cell_type": "code",
   "execution_count": 16,
   "id": "e2fb34ce",
   "metadata": {},
   "outputs": [],
   "source": [
    "def read_dataframe(file_name):\n",
    "    df = pd.read_parquet(file_name)\n",
    "    df['duration'] = (df['tpep_dropoff_datetime'] - df['tpep_pickup_datetime']).dt.total_seconds() / 60\n",
    "    df = df[(df['duration']>=1) & (df['duration']<=60)]\n",
    "    return df"
   ]
  },
  {
   "cell_type": "code",
   "execution_count": 17,
   "id": "b7e99076",
   "metadata": {},
   "outputs": [],
   "source": [
    "feb_df = read_dataframe('https://d37ci6vzurychx.cloudfront.net/trip-data/yellow_tripdata_2023-02.parquet')"
   ]
  },
  {
   "cell_type": "code",
   "execution_count": 18,
   "id": "be2ab059",
   "metadata": {},
   "outputs": [],
   "source": [
    "feb_df['PULocationID'] = feb_df['PULocationID'].astype(str)\n",
    "feb_df['DOLocationID'] = feb_df['DOLocationID'].astype(str)"
   ]
  },
  {
   "cell_type": "code",
   "execution_count": 19,
   "id": "d29b89de",
   "metadata": {},
   "outputs": [],
   "source": [
    "dicts_feb = feb_df[['PULocationID','DOLocationID']].to_dict(orient='records')\n",
    "X_eval = dv.transform(dicts_feb)"
   ]
  },
  {
   "cell_type": "code",
   "execution_count": 20,
   "id": "fa6e9afc",
   "metadata": {},
   "outputs": [
    {
     "data": {
      "text/plain": [
       "(2855951, 515)"
      ]
     },
     "execution_count": 20,
     "metadata": {},
     "output_type": "execute_result"
    }
   ],
   "source": [
    "X_eval.shape"
   ]
  },
  {
   "cell_type": "code",
   "execution_count": 21,
   "id": "3931f6bf",
   "metadata": {},
   "outputs": [
    {
     "data": {
      "text/plain": [
       "(2855951,)"
      ]
     },
     "execution_count": 21,
     "metadata": {},
     "output_type": "execute_result"
    }
   ],
   "source": [
    "y_eval = feb_df['duration']\n",
    "y_eval.shape"
   ]
  },
  {
   "cell_type": "code",
   "execution_count": 22,
   "id": "14497957",
   "metadata": {},
   "outputs": [],
   "source": [
    "preds_eval = model.predict(X_eval)"
   ]
  },
  {
   "cell_type": "code",
   "execution_count": 23,
   "id": "6486ebb9",
   "metadata": {},
   "outputs": [
    {
     "data": {
      "text/plain": [
       "7.811832641626525"
      ]
     },
     "execution_count": 23,
     "metadata": {},
     "output_type": "execute_result"
    }
   ],
   "source": [
    "Answer6 = mean_squared_error(y_eval, preds_eval, squared=False)\n",
    "Answer6"
   ]
  }
 ],
 "metadata": {
  "kernelspec": {
   "display_name": "Python 3 (ipykernel)",
   "language": "python",
   "name": "python3"
  },
  "language_info": {
   "codemirror_mode": {
    "name": "ipython",
    "version": 3
   },
   "file_extension": ".py",
   "mimetype": "text/x-python",
   "name": "python",
   "nbconvert_exporter": "python",
   "pygments_lexer": "ipython3",
   "version": "3.9.12"
  }
 },
 "nbformat": 4,
 "nbformat_minor": 5
}
